{
  "nbformat": 4,
  "nbformat_minor": 0,
  "metadata": {
    "colab": {
      "provenance": [],
      "machine_shape": "hm",
      "gpuType": "T4"
    },
    "kernelspec": {
      "name": "python3",
      "display_name": "Python 3"
    },
    "language_info": {
      "name": "python"
    },
    "accelerator": "GPU"
  },
  "cells": [
    {
      "cell_type": "code",
      "execution_count": null,
      "metadata": {
        "id": "wrIy7ta3x9XQ"
      },
      "outputs": [],
      "source": [
        "# https://github.com/superhard83/sd-image-service\n",
        "\n",
        "!pip install -q gradio\n",
        "\n",
        "import gradio as gr\n",
        "\n",
        "def fake_generate(prompt):\n",
        "    return f\"' {prompt}' 에 대한 이미지를 생성 중입니다...\"\n",
        "\n",
        "with gr.Blocks() as demo:\n",
        "    gr.Markdown(\"## 텍스트 기반 이미지 생성 시뮬레이터\")\n",
        "    with gr.Row():\n",
        "        prompt = gr.Textbox(label=\"프롬프트\", placeholder=\"예: a cat flying through space\", lines=2)\n",
        "    with gr.Row():\n",
        "        generate_btn = gr.Button(\"이미지 생성 시작!\")\n",
        "        result = gr.Textbox(label=\"결과 메시지\", lines=2)\n",
        "    generate_btn.click(fn=fake_generate, inputs=prompt, outputs=result)\n",
        "\n",
        "demo.launch()"
      ]
    },
    {
      "cell_type": "code",
      "source": [],
      "metadata": {
        "id": "t3C2Exj3yD7G"
      },
      "execution_count": null,
      "outputs": []
    }
  ]
}