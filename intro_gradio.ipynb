{
  "nbformat": 4,
  "nbformat_minor": 0,
  "metadata": {
    "colab": {
      "provenance": [],
      "machine_shape": "hm",
      "gpuType": "T4"
    },
    "kernelspec": {
      "name": "python3",
      "display_name": "Python 3"
    },
    "language_info": {
      "name": "python"
    },
    "accelerator": "GPU"
  },
  "cells": [
    {
      "cell_type": "code",
      "execution_count": null,
      "metadata": {
        "id": "WF-yfVbNrZKB"
      },
      "outputs": [],
      "source": [
        "# install\n",
        "!pip install -U gradio"
      ]
    },
    {
      "cell_type": "code",
      "source": [
        "import torch\n",
        "import gradio as gr\n",
        "\n",
        "print('Torch version: ',torch.__version__)\n",
        "print('CUDA 사용 가능: ', torch.cuda.is_available())"
      ],
      "metadata": {
        "id": "h0eKVITlr9AI"
      },
      "execution_count": null,
      "outputs": []
    },
    {
      "cell_type": "code",
      "source": [
        "def greet(name):\n",
        "  return f\"안녕하세요. {name}님! Gradio에 오신 걸 확영합니다.\"\n",
        "\n",
        "demo = gr.Interface(fn=greet, inputs=\"text\", outputs=\"text\")\n",
        "demo.launch()"
      ],
      "metadata": {
        "id": "Hgkz2alTsq6e"
      },
      "execution_count": null,
      "outputs": []
    }
  ]
}